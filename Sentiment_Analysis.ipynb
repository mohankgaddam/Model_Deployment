{
  "nbformat": 4,
  "nbformat_minor": 0,
  "metadata": {
    "colab": {
      "name": "Sentiment_Analysis.ipynb",
      "provenance": [],
      "collapsed_sections": [],
      "toc_visible": true,
      "include_colab_link": true
    },
    "kernelspec": {
      "name": "python3",
      "display_name": "Python 3"
    },
    "accelerator": "GPU",
    "widgets": {
      "application/vnd.jupyter.widget-state+json": {
        "2396ca27d78f474994add4d755b6d8c4": {
          "model_module": "@jupyter-widgets/controls",
          "model_name": "HBoxModel",
          "state": {
            "_view_name": "HBoxView",
            "_dom_classes": [],
            "_model_name": "HBoxModel",
            "_view_module": "@jupyter-widgets/controls",
            "_model_module_version": "1.5.0",
            "_view_count": null,
            "_view_module_version": "1.5.0",
            "box_style": "",
            "layout": "IPY_MODEL_0e2dc1c66cfc41b68384079f63dac9e0",
            "_model_module": "@jupyter-widgets/controls",
            "children": [
              "IPY_MODEL_72e6f382cf9b4661b9b17ac5e486c4f1",
              "IPY_MODEL_592f17c92ad14610ac951e19d2171f98"
            ]
          }
        },
        "0e2dc1c66cfc41b68384079f63dac9e0": {
          "model_module": "@jupyter-widgets/base",
          "model_name": "LayoutModel",
          "state": {
            "_view_name": "LayoutView",
            "grid_template_rows": null,
            "right": null,
            "justify_content": null,
            "_view_module": "@jupyter-widgets/base",
            "overflow": null,
            "_model_module_version": "1.2.0",
            "_view_count": null,
            "flex_flow": null,
            "width": null,
            "min_width": null,
            "border": null,
            "align_items": null,
            "bottom": null,
            "_model_module": "@jupyter-widgets/base",
            "top": null,
            "grid_column": null,
            "overflow_y": null,
            "overflow_x": null,
            "grid_auto_flow": null,
            "grid_area": null,
            "grid_template_columns": null,
            "flex": null,
            "_model_name": "LayoutModel",
            "justify_items": null,
            "grid_row": null,
            "max_height": null,
            "align_content": null,
            "visibility": null,
            "align_self": null,
            "height": null,
            "min_height": null,
            "padding": null,
            "grid_auto_rows": null,
            "grid_gap": null,
            "max_width": null,
            "order": null,
            "_view_module_version": "1.2.0",
            "grid_template_areas": null,
            "object_position": null,
            "object_fit": null,
            "grid_auto_columns": null,
            "margin": null,
            "display": null,
            "left": null
          }
        },
        "72e6f382cf9b4661b9b17ac5e486c4f1": {
          "model_module": "@jupyter-widgets/controls",
          "model_name": "IntProgressModel",
          "state": {
            "_view_name": "ProgressView",
            "style": "IPY_MODEL_3602a1c6a5174bd585ba67b1dead3f87",
            "_dom_classes": [],
            "description": "Dl Completed...: 100%",
            "_model_name": "IntProgressModel",
            "bar_style": "success",
            "max": 1,
            "_view_module": "@jupyter-widgets/controls",
            "_model_module_version": "1.5.0",
            "value": 1,
            "_view_count": null,
            "_view_module_version": "1.5.0",
            "orientation": "horizontal",
            "min": 0,
            "description_tooltip": null,
            "_model_module": "@jupyter-widgets/controls",
            "layout": "IPY_MODEL_643030ceab4c4b2d9f1b4aa329fc49dc"
          }
        },
        "592f17c92ad14610ac951e19d2171f98": {
          "model_module": "@jupyter-widgets/controls",
          "model_name": "HTMLModel",
          "state": {
            "_view_name": "HTMLView",
            "style": "IPY_MODEL_cadbc51b47de46a8913c12158710cbe2",
            "_dom_classes": [],
            "description": "",
            "_model_name": "HTMLModel",
            "placeholder": "​",
            "_view_module": "@jupyter-widgets/controls",
            "_model_module_version": "1.5.0",
            "value": " 1/1 [00:10&lt;00:00, 10.32s/ url]",
            "_view_count": null,
            "_view_module_version": "1.5.0",
            "description_tooltip": null,
            "_model_module": "@jupyter-widgets/controls",
            "layout": "IPY_MODEL_437852d7beb34dfb85054a0ac4fab026"
          }
        },
        "3602a1c6a5174bd585ba67b1dead3f87": {
          "model_module": "@jupyter-widgets/controls",
          "model_name": "ProgressStyleModel",
          "state": {
            "_view_name": "StyleView",
            "_model_name": "ProgressStyleModel",
            "description_width": "initial",
            "_view_module": "@jupyter-widgets/base",
            "_model_module_version": "1.5.0",
            "_view_count": null,
            "_view_module_version": "1.2.0",
            "bar_color": null,
            "_model_module": "@jupyter-widgets/controls"
          }
        },
        "643030ceab4c4b2d9f1b4aa329fc49dc": {
          "model_module": "@jupyter-widgets/base",
          "model_name": "LayoutModel",
          "state": {
            "_view_name": "LayoutView",
            "grid_template_rows": null,
            "right": null,
            "justify_content": null,
            "_view_module": "@jupyter-widgets/base",
            "overflow": null,
            "_model_module_version": "1.2.0",
            "_view_count": null,
            "flex_flow": null,
            "width": null,
            "min_width": null,
            "border": null,
            "align_items": null,
            "bottom": null,
            "_model_module": "@jupyter-widgets/base",
            "top": null,
            "grid_column": null,
            "overflow_y": null,
            "overflow_x": null,
            "grid_auto_flow": null,
            "grid_area": null,
            "grid_template_columns": null,
            "flex": null,
            "_model_name": "LayoutModel",
            "justify_items": null,
            "grid_row": null,
            "max_height": null,
            "align_content": null,
            "visibility": null,
            "align_self": null,
            "height": null,
            "min_height": null,
            "padding": null,
            "grid_auto_rows": null,
            "grid_gap": null,
            "max_width": null,
            "order": null,
            "_view_module_version": "1.2.0",
            "grid_template_areas": null,
            "object_position": null,
            "object_fit": null,
            "grid_auto_columns": null,
            "margin": null,
            "display": null,
            "left": null
          }
        },
        "cadbc51b47de46a8913c12158710cbe2": {
          "model_module": "@jupyter-widgets/controls",
          "model_name": "DescriptionStyleModel",
          "state": {
            "_view_name": "StyleView",
            "_model_name": "DescriptionStyleModel",
            "description_width": "",
            "_view_module": "@jupyter-widgets/base",
            "_model_module_version": "1.5.0",
            "_view_count": null,
            "_view_module_version": "1.2.0",
            "_model_module": "@jupyter-widgets/controls"
          }
        },
        "437852d7beb34dfb85054a0ac4fab026": {
          "model_module": "@jupyter-widgets/base",
          "model_name": "LayoutModel",
          "state": {
            "_view_name": "LayoutView",
            "grid_template_rows": null,
            "right": null,
            "justify_content": null,
            "_view_module": "@jupyter-widgets/base",
            "overflow": null,
            "_model_module_version": "1.2.0",
            "_view_count": null,
            "flex_flow": null,
            "width": null,
            "min_width": null,
            "border": null,
            "align_items": null,
            "bottom": null,
            "_model_module": "@jupyter-widgets/base",
            "top": null,
            "grid_column": null,
            "overflow_y": null,
            "overflow_x": null,
            "grid_auto_flow": null,
            "grid_area": null,
            "grid_template_columns": null,
            "flex": null,
            "_model_name": "LayoutModel",
            "justify_items": null,
            "grid_row": null,
            "max_height": null,
            "align_content": null,
            "visibility": null,
            "align_self": null,
            "height": null,
            "min_height": null,
            "padding": null,
            "grid_auto_rows": null,
            "grid_gap": null,
            "max_width": null,
            "order": null,
            "_view_module_version": "1.2.0",
            "grid_template_areas": null,
            "object_position": null,
            "object_fit": null,
            "grid_auto_columns": null,
            "margin": null,
            "display": null,
            "left": null
          }
        },
        "590b04c220af44cc9917a966eb8a0edf": {
          "model_module": "@jupyter-widgets/controls",
          "model_name": "HBoxModel",
          "state": {
            "_view_name": "HBoxView",
            "_dom_classes": [],
            "_model_name": "HBoxModel",
            "_view_module": "@jupyter-widgets/controls",
            "_model_module_version": "1.5.0",
            "_view_count": null,
            "_view_module_version": "1.5.0",
            "box_style": "",
            "layout": "IPY_MODEL_2806146455e743f2917d6800b414564a",
            "_model_module": "@jupyter-widgets/controls",
            "children": [
              "IPY_MODEL_7625806a26fe4bcab3e6579f2c1bb43b",
              "IPY_MODEL_8966a726fb554b04ba64332f47985008"
            ]
          }
        },
        "2806146455e743f2917d6800b414564a": {
          "model_module": "@jupyter-widgets/base",
          "model_name": "LayoutModel",
          "state": {
            "_view_name": "LayoutView",
            "grid_template_rows": null,
            "right": null,
            "justify_content": null,
            "_view_module": "@jupyter-widgets/base",
            "overflow": null,
            "_model_module_version": "1.2.0",
            "_view_count": null,
            "flex_flow": null,
            "width": null,
            "min_width": null,
            "border": null,
            "align_items": null,
            "bottom": null,
            "_model_module": "@jupyter-widgets/base",
            "top": null,
            "grid_column": null,
            "overflow_y": null,
            "overflow_x": null,
            "grid_auto_flow": null,
            "grid_area": null,
            "grid_template_columns": null,
            "flex": null,
            "_model_name": "LayoutModel",
            "justify_items": null,
            "grid_row": null,
            "max_height": null,
            "align_content": null,
            "visibility": null,
            "align_self": null,
            "height": null,
            "min_height": null,
            "padding": null,
            "grid_auto_rows": null,
            "grid_gap": null,
            "max_width": null,
            "order": null,
            "_view_module_version": "1.2.0",
            "grid_template_areas": null,
            "object_position": null,
            "object_fit": null,
            "grid_auto_columns": null,
            "margin": null,
            "display": null,
            "left": null
          }
        },
        "7625806a26fe4bcab3e6579f2c1bb43b": {
          "model_module": "@jupyter-widgets/controls",
          "model_name": "IntProgressModel",
          "state": {
            "_view_name": "ProgressView",
            "style": "IPY_MODEL_f796cc52d9e84affa541ea9a51315752",
            "_dom_classes": [],
            "description": "Dl Size...: 100%",
            "_model_name": "IntProgressModel",
            "bar_style": "success",
            "max": 1,
            "_view_module": "@jupyter-widgets/controls",
            "_model_module_version": "1.5.0",
            "value": 1,
            "_view_count": null,
            "_view_module_version": "1.5.0",
            "orientation": "horizontal",
            "min": 0,
            "description_tooltip": null,
            "_model_module": "@jupyter-widgets/controls",
            "layout": "IPY_MODEL_ef4f73016aeb41449bac92bb5b9be0ee"
          }
        },
        "8966a726fb554b04ba64332f47985008": {
          "model_module": "@jupyter-widgets/controls",
          "model_name": "HTMLModel",
          "state": {
            "_view_name": "HTMLView",
            "style": "IPY_MODEL_f066da7532954a8fa5930475b35536f2",
            "_dom_classes": [],
            "description": "",
            "_model_name": "HTMLModel",
            "placeholder": "​",
            "_view_module": "@jupyter-widgets/controls",
            "_model_module_version": "1.5.0",
            "value": " 142/142 [00:10&lt;00:00, 13.80 MiB/s]",
            "_view_count": null,
            "_view_module_version": "1.5.0",
            "description_tooltip": null,
            "_model_module": "@jupyter-widgets/controls",
            "layout": "IPY_MODEL_e8701183a8ea49109e03f6c72ea0266a"
          }
        },
        "f796cc52d9e84affa541ea9a51315752": {
          "model_module": "@jupyter-widgets/controls",
          "model_name": "ProgressStyleModel",
          "state": {
            "_view_name": "StyleView",
            "_model_name": "ProgressStyleModel",
            "description_width": "initial",
            "_view_module": "@jupyter-widgets/base",
            "_model_module_version": "1.5.0",
            "_view_count": null,
            "_view_module_version": "1.2.0",
            "bar_color": null,
            "_model_module": "@jupyter-widgets/controls"
          }
        },
        "ef4f73016aeb41449bac92bb5b9be0ee": {
          "model_module": "@jupyter-widgets/base",
          "model_name": "LayoutModel",
          "state": {
            "_view_name": "LayoutView",
            "grid_template_rows": null,
            "right": null,
            "justify_content": null,
            "_view_module": "@jupyter-widgets/base",
            "overflow": null,
            "_model_module_version": "1.2.0",
            "_view_count": null,
            "flex_flow": null,
            "width": null,
            "min_width": null,
            "border": null,
            "align_items": null,
            "bottom": null,
            "_model_module": "@jupyter-widgets/base",
            "top": null,
            "grid_column": null,
            "overflow_y": null,
            "overflow_x": null,
            "grid_auto_flow": null,
            "grid_area": null,
            "grid_template_columns": null,
            "flex": null,
            "_model_name": "LayoutModel",
            "justify_items": null,
            "grid_row": null,
            "max_height": null,
            "align_content": null,
            "visibility": null,
            "align_self": null,
            "height": null,
            "min_height": null,
            "padding": null,
            "grid_auto_rows": null,
            "grid_gap": null,
            "max_width": null,
            "order": null,
            "_view_module_version": "1.2.0",
            "grid_template_areas": null,
            "object_position": null,
            "object_fit": null,
            "grid_auto_columns": null,
            "margin": null,
            "display": null,
            "left": null
          }
        },
        "f066da7532954a8fa5930475b35536f2": {
          "model_module": "@jupyter-widgets/controls",
          "model_name": "DescriptionStyleModel",
          "state": {
            "_view_name": "StyleView",
            "_model_name": "DescriptionStyleModel",
            "description_width": "",
            "_view_module": "@jupyter-widgets/base",
            "_model_module_version": "1.5.0",
            "_view_count": null,
            "_view_module_version": "1.2.0",
            "_model_module": "@jupyter-widgets/controls"
          }
        },
        "e8701183a8ea49109e03f6c72ea0266a": {
          "model_module": "@jupyter-widgets/base",
          "model_name": "LayoutModel",
          "state": {
            "_view_name": "LayoutView",
            "grid_template_rows": null,
            "right": null,
            "justify_content": null,
            "_view_module": "@jupyter-widgets/base",
            "overflow": null,
            "_model_module_version": "1.2.0",
            "_view_count": null,
            "flex_flow": null,
            "width": null,
            "min_width": null,
            "border": null,
            "align_items": null,
            "bottom": null,
            "_model_module": "@jupyter-widgets/base",
            "top": null,
            "grid_column": null,
            "overflow_y": null,
            "overflow_x": null,
            "grid_auto_flow": null,
            "grid_area": null,
            "grid_template_columns": null,
            "flex": null,
            "_model_name": "LayoutModel",
            "justify_items": null,
            "grid_row": null,
            "max_height": null,
            "align_content": null,
            "visibility": null,
            "align_self": null,
            "height": null,
            "min_height": null,
            "padding": null,
            "grid_auto_rows": null,
            "grid_gap": null,
            "max_width": null,
            "order": null,
            "_view_module_version": "1.2.0",
            "grid_template_areas": null,
            "object_position": null,
            "object_fit": null,
            "grid_auto_columns": null,
            "margin": null,
            "display": null,
            "left": null
          }
        },
        "26722463bc3f4455be1439a9e286bad9": {
          "model_module": "@jupyter-widgets/controls",
          "model_name": "HBoxModel",
          "state": {
            "_view_name": "HBoxView",
            "_dom_classes": [],
            "_model_name": "HBoxModel",
            "_view_module": "@jupyter-widgets/controls",
            "_model_module_version": "1.5.0",
            "_view_count": null,
            "_view_module_version": "1.5.0",
            "box_style": "",
            "layout": "IPY_MODEL_889f82f8ba074deea8828667bc2514d3",
            "_model_module": "@jupyter-widgets/controls",
            "children": [
              "IPY_MODEL_43a370d5d26c4ecdb0b0030d642eb3b9",
              "IPY_MODEL_57f9a3403ff347e69e9984333938082f"
            ]
          }
        },
        "889f82f8ba074deea8828667bc2514d3": {
          "model_module": "@jupyter-widgets/base",
          "model_name": "LayoutModel",
          "state": {
            "_view_name": "LayoutView",
            "grid_template_rows": null,
            "right": null,
            "justify_content": null,
            "_view_module": "@jupyter-widgets/base",
            "overflow": null,
            "_model_module_version": "1.2.0",
            "_view_count": null,
            "flex_flow": null,
            "width": null,
            "min_width": null,
            "border": null,
            "align_items": null,
            "bottom": null,
            "_model_module": "@jupyter-widgets/base",
            "top": null,
            "grid_column": null,
            "overflow_y": null,
            "overflow_x": null,
            "grid_auto_flow": null,
            "grid_area": null,
            "grid_template_columns": null,
            "flex": null,
            "_model_name": "LayoutModel",
            "justify_items": null,
            "grid_row": null,
            "max_height": null,
            "align_content": null,
            "visibility": null,
            "align_self": null,
            "height": null,
            "min_height": null,
            "padding": null,
            "grid_auto_rows": null,
            "grid_gap": null,
            "max_width": null,
            "order": null,
            "_view_module_version": "1.2.0",
            "grid_template_areas": null,
            "object_position": null,
            "object_fit": null,
            "grid_auto_columns": null,
            "margin": null,
            "display": null,
            "left": null
          }
        },
        "43a370d5d26c4ecdb0b0030d642eb3b9": {
          "model_module": "@jupyter-widgets/controls",
          "model_name": "IntProgressModel",
          "state": {
            "_view_name": "ProgressView",
            "style": "IPY_MODEL_7260d358a67140b18d0ac33d58484f86",
            "_dom_classes": [],
            "description": "Extraction completed...: 100%",
            "_model_name": "IntProgressModel",
            "bar_style": "success",
            "max": 1,
            "_view_module": "@jupyter-widgets/controls",
            "_model_module_version": "1.5.0",
            "value": 1,
            "_view_count": null,
            "_view_module_version": "1.5.0",
            "orientation": "horizontal",
            "min": 0,
            "description_tooltip": null,
            "_model_module": "@jupyter-widgets/controls",
            "layout": "IPY_MODEL_3d041538694c4d15b921632c6c62ed82"
          }
        },
        "57f9a3403ff347e69e9984333938082f": {
          "model_module": "@jupyter-widgets/controls",
          "model_name": "HTMLModel",
          "state": {
            "_view_name": "HTMLView",
            "style": "IPY_MODEL_6e9a8c0b0cd249579e52caed572b5035",
            "_dom_classes": [],
            "description": "",
            "_model_name": "HTMLModel",
            "placeholder": "​",
            "_view_module": "@jupyter-widgets/controls",
            "_model_module_version": "1.5.0",
            "value": " 1/1 [00:10&lt;00:00, 10.26s/ file]",
            "_view_count": null,
            "_view_module_version": "1.5.0",
            "description_tooltip": null,
            "_model_module": "@jupyter-widgets/controls",
            "layout": "IPY_MODEL_a59febfe58f44088bb200983dd3bbb57"
          }
        },
        "7260d358a67140b18d0ac33d58484f86": {
          "model_module": "@jupyter-widgets/controls",
          "model_name": "ProgressStyleModel",
          "state": {
            "_view_name": "StyleView",
            "_model_name": "ProgressStyleModel",
            "description_width": "initial",
            "_view_module": "@jupyter-widgets/base",
            "_model_module_version": "1.5.0",
            "_view_count": null,
            "_view_module_version": "1.2.0",
            "bar_color": null,
            "_model_module": "@jupyter-widgets/controls"
          }
        },
        "3d041538694c4d15b921632c6c62ed82": {
          "model_module": "@jupyter-widgets/base",
          "model_name": "LayoutModel",
          "state": {
            "_view_name": "LayoutView",
            "grid_template_rows": null,
            "right": null,
            "justify_content": null,
            "_view_module": "@jupyter-widgets/base",
            "overflow": null,
            "_model_module_version": "1.2.0",
            "_view_count": null,
            "flex_flow": null,
            "width": null,
            "min_width": null,
            "border": null,
            "align_items": null,
            "bottom": null,
            "_model_module": "@jupyter-widgets/base",
            "top": null,
            "grid_column": null,
            "overflow_y": null,
            "overflow_x": null,
            "grid_auto_flow": null,
            "grid_area": null,
            "grid_template_columns": null,
            "flex": null,
            "_model_name": "LayoutModel",
            "justify_items": null,
            "grid_row": null,
            "max_height": null,
            "align_content": null,
            "visibility": null,
            "align_self": null,
            "height": null,
            "min_height": null,
            "padding": null,
            "grid_auto_rows": null,
            "grid_gap": null,
            "max_width": null,
            "order": null,
            "_view_module_version": "1.2.0",
            "grid_template_areas": null,
            "object_position": null,
            "object_fit": null,
            "grid_auto_columns": null,
            "margin": null,
            "display": null,
            "left": null
          }
        },
        "6e9a8c0b0cd249579e52caed572b5035": {
          "model_module": "@jupyter-widgets/controls",
          "model_name": "DescriptionStyleModel",
          "state": {
            "_view_name": "StyleView",
            "_model_name": "DescriptionStyleModel",
            "description_width": "",
            "_view_module": "@jupyter-widgets/base",
            "_model_module_version": "1.5.0",
            "_view_count": null,
            "_view_module_version": "1.2.0",
            "_model_module": "@jupyter-widgets/controls"
          }
        },
        "a59febfe58f44088bb200983dd3bbb57": {
          "model_module": "@jupyter-widgets/base",
          "model_name": "LayoutModel",
          "state": {
            "_view_name": "LayoutView",
            "grid_template_rows": null,
            "right": null,
            "justify_content": null,
            "_view_module": "@jupyter-widgets/base",
            "overflow": null,
            "_model_module_version": "1.2.0",
            "_view_count": null,
            "flex_flow": null,
            "width": null,
            "min_width": null,
            "border": null,
            "align_items": null,
            "bottom": null,
            "_model_module": "@jupyter-widgets/base",
            "top": null,
            "grid_column": null,
            "overflow_y": null,
            "overflow_x": null,
            "grid_auto_flow": null,
            "grid_area": null,
            "grid_template_columns": null,
            "flex": null,
            "_model_name": "LayoutModel",
            "justify_items": null,
            "grid_row": null,
            "max_height": null,
            "align_content": null,
            "visibility": null,
            "align_self": null,
            "height": null,
            "min_height": null,
            "padding": null,
            "grid_auto_rows": null,
            "grid_gap": null,
            "max_width": null,
            "order": null,
            "_view_module_version": "1.2.0",
            "grid_template_areas": null,
            "object_position": null,
            "object_fit": null,
            "grid_auto_columns": null,
            "margin": null,
            "display": null,
            "left": null
          }
        },
        "bf07578f75cc4f0d9c4463f66010bdea": {
          "model_module": "@jupyter-widgets/controls",
          "model_name": "HBoxModel",
          "state": {
            "_view_name": "HBoxView",
            "_dom_classes": [],
            "_model_name": "HBoxModel",
            "_view_module": "@jupyter-widgets/controls",
            "_model_module_version": "1.5.0",
            "_view_count": null,
            "_view_module_version": "1.5.0",
            "box_style": "",
            "layout": "IPY_MODEL_2a39f0aef62b404ca5efb28a1f1fe49b",
            "_model_module": "@jupyter-widgets/controls",
            "children": [
              "IPY_MODEL_96526660f0234bffbb77888ecc97d82a",
              "IPY_MODEL_a13eeddc2e754b528b94ceceb0faa5f9"
            ]
          }
        },
        "2a39f0aef62b404ca5efb28a1f1fe49b": {
          "model_module": "@jupyter-widgets/base",
          "model_name": "LayoutModel",
          "state": {
            "_view_name": "LayoutView",
            "grid_template_rows": null,
            "right": null,
            "justify_content": null,
            "_view_module": "@jupyter-widgets/base",
            "overflow": null,
            "_model_module_version": "1.2.0",
            "_view_count": null,
            "flex_flow": null,
            "width": null,
            "min_width": null,
            "border": null,
            "align_items": null,
            "bottom": null,
            "_model_module": "@jupyter-widgets/base",
            "top": null,
            "grid_column": null,
            "overflow_y": null,
            "overflow_x": null,
            "grid_auto_flow": null,
            "grid_area": null,
            "grid_template_columns": null,
            "flex": null,
            "_model_name": "LayoutModel",
            "justify_items": null,
            "grid_row": null,
            "max_height": null,
            "align_content": null,
            "visibility": null,
            "align_self": null,
            "height": null,
            "min_height": null,
            "padding": null,
            "grid_auto_rows": null,
            "grid_gap": null,
            "max_width": null,
            "order": null,
            "_view_module_version": "1.2.0",
            "grid_template_areas": null,
            "object_position": null,
            "object_fit": null,
            "grid_auto_columns": null,
            "margin": null,
            "display": null,
            "left": null
          }
        },
        "96526660f0234bffbb77888ecc97d82a": {
          "model_module": "@jupyter-widgets/controls",
          "model_name": "IntProgressModel",
          "state": {
            "_view_name": "ProgressView",
            "style": "IPY_MODEL_b642ed5044a747898f12f5217b65b606",
            "_dom_classes": [],
            "description": "",
            "_model_name": "IntProgressModel",
            "bar_style": "info",
            "max": 1,
            "_view_module": "@jupyter-widgets/controls",
            "_model_module_version": "1.5.0",
            "value": 1,
            "_view_count": null,
            "_view_module_version": "1.5.0",
            "orientation": "horizontal",
            "min": 0,
            "description_tooltip": null,
            "_model_module": "@jupyter-widgets/controls",
            "layout": "IPY_MODEL_a2d619f6faae4616bedb3e2759f17d48"
          }
        },
        "a13eeddc2e754b528b94ceceb0faa5f9": {
          "model_module": "@jupyter-widgets/controls",
          "model_name": "HTMLModel",
          "state": {
            "_view_name": "HTMLView",
            "style": "IPY_MODEL_a3f8430db4fb42d098820a1f61e8dc66",
            "_dom_classes": [],
            "description": "",
            "_model_name": "HTMLModel",
            "placeholder": "​",
            "_view_module": "@jupyter-widgets/controls",
            "_model_module_version": "1.5.0",
            "value": " 792113/0 [13:32&lt;00:00, 995.35 examples/s]",
            "_view_count": null,
            "_view_module_version": "1.5.0",
            "description_tooltip": null,
            "_model_module": "@jupyter-widgets/controls",
            "layout": "IPY_MODEL_3dc16bcd6fbc42bb9355e7dddc1c70a1"
          }
        },
        "b642ed5044a747898f12f5217b65b606": {
          "model_module": "@jupyter-widgets/controls",
          "model_name": "ProgressStyleModel",
          "state": {
            "_view_name": "StyleView",
            "_model_name": "ProgressStyleModel",
            "description_width": "initial",
            "_view_module": "@jupyter-widgets/base",
            "_model_module_version": "1.5.0",
            "_view_count": null,
            "_view_module_version": "1.2.0",
            "bar_color": null,
            "_model_module": "@jupyter-widgets/controls"
          }
        },
        "a2d619f6faae4616bedb3e2759f17d48": {
          "model_module": "@jupyter-widgets/base",
          "model_name": "LayoutModel",
          "state": {
            "_view_name": "LayoutView",
            "grid_template_rows": null,
            "right": null,
            "justify_content": null,
            "_view_module": "@jupyter-widgets/base",
            "overflow": null,
            "_model_module_version": "1.2.0",
            "_view_count": null,
            "flex_flow": null,
            "width": null,
            "min_width": null,
            "border": null,
            "align_items": null,
            "bottom": null,
            "_model_module": "@jupyter-widgets/base",
            "top": null,
            "grid_column": null,
            "overflow_y": null,
            "overflow_x": null,
            "grid_auto_flow": null,
            "grid_area": null,
            "grid_template_columns": null,
            "flex": null,
            "_model_name": "LayoutModel",
            "justify_items": null,
            "grid_row": null,
            "max_height": null,
            "align_content": null,
            "visibility": null,
            "align_self": null,
            "height": null,
            "min_height": null,
            "padding": null,
            "grid_auto_rows": null,
            "grid_gap": null,
            "max_width": null,
            "order": null,
            "_view_module_version": "1.2.0",
            "grid_template_areas": null,
            "object_position": null,
            "object_fit": null,
            "grid_auto_columns": null,
            "margin": null,
            "display": null,
            "left": null
          }
        },
        "a3f8430db4fb42d098820a1f61e8dc66": {
          "model_module": "@jupyter-widgets/controls",
          "model_name": "DescriptionStyleModel",
          "state": {
            "_view_name": "StyleView",
            "_model_name": "DescriptionStyleModel",
            "description_width": "",
            "_view_module": "@jupyter-widgets/base",
            "_model_module_version": "1.5.0",
            "_view_count": null,
            "_view_module_version": "1.2.0",
            "_model_module": "@jupyter-widgets/controls"
          }
        },
        "3dc16bcd6fbc42bb9355e7dddc1c70a1": {
          "model_module": "@jupyter-widgets/base",
          "model_name": "LayoutModel",
          "state": {
            "_view_name": "LayoutView",
            "grid_template_rows": null,
            "right": null,
            "justify_content": null,
            "_view_module": "@jupyter-widgets/base",
            "overflow": null,
            "_model_module_version": "1.2.0",
            "_view_count": null,
            "flex_flow": null,
            "width": null,
            "min_width": null,
            "border": null,
            "align_items": null,
            "bottom": null,
            "_model_module": "@jupyter-widgets/base",
            "top": null,
            "grid_column": null,
            "overflow_y": null,
            "overflow_x": null,
            "grid_auto_flow": null,
            "grid_area": null,
            "grid_template_columns": null,
            "flex": null,
            "_model_name": "LayoutModel",
            "justify_items": null,
            "grid_row": null,
            "max_height": null,
            "align_content": null,
            "visibility": null,
            "align_self": null,
            "height": null,
            "min_height": null,
            "padding": null,
            "grid_auto_rows": null,
            "grid_gap": null,
            "max_width": null,
            "order": null,
            "_view_module_version": "1.2.0",
            "grid_template_areas": null,
            "object_position": null,
            "object_fit": null,
            "grid_auto_columns": null,
            "margin": null,
            "display": null,
            "left": null
          }
        },
        "734e7530297f4378a78b350fc3f27d79": {
          "model_module": "@jupyter-widgets/controls",
          "model_name": "HBoxModel",
          "state": {
            "_view_name": "HBoxView",
            "_dom_classes": [],
            "_model_name": "HBoxModel",
            "_view_module": "@jupyter-widgets/controls",
            "_model_module_version": "1.5.0",
            "_view_count": null,
            "_view_module_version": "1.5.0",
            "box_style": "",
            "layout": "IPY_MODEL_7ab4a4ca5123480baa52650727e9eb50",
            "_model_module": "@jupyter-widgets/controls",
            "children": [
              "IPY_MODEL_630eefad687443b085fcb3d99882117a",
              "IPY_MODEL_c4eaf337e3c04130bf8183d04d7e90cd"
            ]
          }
        },
        "7ab4a4ca5123480baa52650727e9eb50": {
          "model_module": "@jupyter-widgets/base",
          "model_name": "LayoutModel",
          "state": {
            "_view_name": "LayoutView",
            "grid_template_rows": null,
            "right": null,
            "justify_content": null,
            "_view_module": "@jupyter-widgets/base",
            "overflow": null,
            "_model_module_version": "1.2.0",
            "_view_count": null,
            "flex_flow": null,
            "width": null,
            "min_width": null,
            "border": null,
            "align_items": null,
            "bottom": null,
            "_model_module": "@jupyter-widgets/base",
            "top": null,
            "grid_column": null,
            "overflow_y": null,
            "overflow_x": null,
            "grid_auto_flow": null,
            "grid_area": null,
            "grid_template_columns": null,
            "flex": null,
            "_model_name": "LayoutModel",
            "justify_items": null,
            "grid_row": null,
            "max_height": null,
            "align_content": null,
            "visibility": null,
            "align_self": null,
            "height": null,
            "min_height": null,
            "padding": null,
            "grid_auto_rows": null,
            "grid_gap": null,
            "max_width": null,
            "order": null,
            "_view_module_version": "1.2.0",
            "grid_template_areas": null,
            "object_position": null,
            "object_fit": null,
            "grid_auto_columns": null,
            "margin": null,
            "display": null,
            "left": null
          }
        },
        "630eefad687443b085fcb3d99882117a": {
          "model_module": "@jupyter-widgets/controls",
          "model_name": "IntProgressModel",
          "state": {
            "_view_name": "ProgressView",
            "style": "IPY_MODEL_921f976c0f8f4ca5b3396ddcae7c84aa",
            "_dom_classes": [],
            "description": " 98%",
            "_model_name": "IntProgressModel",
            "bar_style": "danger",
            "max": 792113,
            "_view_module": "@jupyter-widgets/controls",
            "_model_module_version": "1.5.0",
            "value": 779268,
            "_view_count": null,
            "_view_module_version": "1.5.0",
            "orientation": "horizontal",
            "min": 0,
            "description_tooltip": null,
            "_model_module": "@jupyter-widgets/controls",
            "layout": "IPY_MODEL_49899e562ece4c63bef029dc1a792638"
          }
        },
        "c4eaf337e3c04130bf8183d04d7e90cd": {
          "model_module": "@jupyter-widgets/controls",
          "model_name": "HTMLModel",
          "state": {
            "_view_name": "HTMLView",
            "style": "IPY_MODEL_31eb5f8e75ea4100ac706aa0672bab20",
            "_dom_classes": [],
            "description": "",
            "_model_name": "HTMLModel",
            "placeholder": "​",
            "_view_module": "@jupyter-widgets/controls",
            "_model_module_version": "1.5.0",
            "value": " 779268/792113 [00:10&lt;00:00, 17153.59 examples/s]",
            "_view_count": null,
            "_view_module_version": "1.5.0",
            "description_tooltip": null,
            "_model_module": "@jupyter-widgets/controls",
            "layout": "IPY_MODEL_20e8aa754e8e4ae99e82a643a3993343"
          }
        },
        "921f976c0f8f4ca5b3396ddcae7c84aa": {
          "model_module": "@jupyter-widgets/controls",
          "model_name": "ProgressStyleModel",
          "state": {
            "_view_name": "StyleView",
            "_model_name": "ProgressStyleModel",
            "description_width": "initial",
            "_view_module": "@jupyter-widgets/base",
            "_model_module_version": "1.5.0",
            "_view_count": null,
            "_view_module_version": "1.2.0",
            "bar_color": null,
            "_model_module": "@jupyter-widgets/controls"
          }
        },
        "49899e562ece4c63bef029dc1a792638": {
          "model_module": "@jupyter-widgets/base",
          "model_name": "LayoutModel",
          "state": {
            "_view_name": "LayoutView",
            "grid_template_rows": null,
            "right": null,
            "justify_content": null,
            "_view_module": "@jupyter-widgets/base",
            "overflow": null,
            "_model_module_version": "1.2.0",
            "_view_count": null,
            "flex_flow": null,
            "width": null,
            "min_width": null,
            "border": null,
            "align_items": null,
            "bottom": null,
            "_model_module": "@jupyter-widgets/base",
            "top": null,
            "grid_column": null,
            "overflow_y": null,
            "overflow_x": null,
            "grid_auto_flow": null,
            "grid_area": null,
            "grid_template_columns": null,
            "flex": null,
            "_model_name": "LayoutModel",
            "justify_items": null,
            "grid_row": null,
            "max_height": null,
            "align_content": null,
            "visibility": null,
            "align_self": null,
            "height": null,
            "min_height": null,
            "padding": null,
            "grid_auto_rows": null,
            "grid_gap": null,
            "max_width": null,
            "order": null,
            "_view_module_version": "1.2.0",
            "grid_template_areas": null,
            "object_position": null,
            "object_fit": null,
            "grid_auto_columns": null,
            "margin": null,
            "display": null,
            "left": null
          }
        },
        "31eb5f8e75ea4100ac706aa0672bab20": {
          "model_module": "@jupyter-widgets/controls",
          "model_name": "DescriptionStyleModel",
          "state": {
            "_view_name": "StyleView",
            "_model_name": "DescriptionStyleModel",
            "description_width": "",
            "_view_module": "@jupyter-widgets/base",
            "_model_module_version": "1.5.0",
            "_view_count": null,
            "_view_module_version": "1.2.0",
            "_model_module": "@jupyter-widgets/controls"
          }
        },
        "20e8aa754e8e4ae99e82a643a3993343": {
          "model_module": "@jupyter-widgets/base",
          "model_name": "LayoutModel",
          "state": {
            "_view_name": "LayoutView",
            "grid_template_rows": null,
            "right": null,
            "justify_content": null,
            "_view_module": "@jupyter-widgets/base",
            "overflow": null,
            "_model_module_version": "1.2.0",
            "_view_count": null,
            "flex_flow": null,
            "width": null,
            "min_width": null,
            "border": null,
            "align_items": null,
            "bottom": null,
            "_model_module": "@jupyter-widgets/base",
            "top": null,
            "grid_column": null,
            "overflow_y": null,
            "overflow_x": null,
            "grid_auto_flow": null,
            "grid_area": null,
            "grid_template_columns": null,
            "flex": null,
            "_model_name": "LayoutModel",
            "justify_items": null,
            "grid_row": null,
            "max_height": null,
            "align_content": null,
            "visibility": null,
            "align_self": null,
            "height": null,
            "min_height": null,
            "padding": null,
            "grid_auto_rows": null,
            "grid_gap": null,
            "max_width": null,
            "order": null,
            "_view_module_version": "1.2.0",
            "grid_template_areas": null,
            "object_position": null,
            "object_fit": null,
            "grid_auto_columns": null,
            "margin": null,
            "display": null,
            "left": null
          }
        },
        "075f3166e3c949bf916cbf51293a4951": {
          "model_module": "@jupyter-widgets/controls",
          "model_name": "HBoxModel",
          "state": {
            "_view_name": "HBoxView",
            "_dom_classes": [],
            "_model_name": "HBoxModel",
            "_view_module": "@jupyter-widgets/controls",
            "_model_module_version": "1.5.0",
            "_view_count": null,
            "_view_module_version": "1.5.0",
            "box_style": "",
            "layout": "IPY_MODEL_c8118dc2b2214274a8e0c1002f40215f",
            "_model_module": "@jupyter-widgets/controls",
            "children": [
              "IPY_MODEL_117bcadd4002417ba93d247aadb5b842",
              "IPY_MODEL_45a1ed560df5485aa7645ef6b9188b69"
            ]
          }
        },
        "c8118dc2b2214274a8e0c1002f40215f": {
          "model_module": "@jupyter-widgets/base",
          "model_name": "LayoutModel",
          "state": {
            "_view_name": "LayoutView",
            "grid_template_rows": null,
            "right": null,
            "justify_content": null,
            "_view_module": "@jupyter-widgets/base",
            "overflow": null,
            "_model_module_version": "1.2.0",
            "_view_count": null,
            "flex_flow": null,
            "width": null,
            "min_width": null,
            "border": null,
            "align_items": null,
            "bottom": null,
            "_model_module": "@jupyter-widgets/base",
            "top": null,
            "grid_column": null,
            "overflow_y": null,
            "overflow_x": null,
            "grid_auto_flow": null,
            "grid_area": null,
            "grid_template_columns": null,
            "flex": null,
            "_model_name": "LayoutModel",
            "justify_items": null,
            "grid_row": null,
            "max_height": null,
            "align_content": null,
            "visibility": null,
            "align_self": null,
            "height": null,
            "min_height": null,
            "padding": null,
            "grid_auto_rows": null,
            "grid_gap": null,
            "max_width": null,
            "order": null,
            "_view_module_version": "1.2.0",
            "grid_template_areas": null,
            "object_position": null,
            "object_fit": null,
            "grid_auto_columns": null,
            "margin": null,
            "display": null,
            "left": null
          }
        },
        "117bcadd4002417ba93d247aadb5b842": {
          "model_module": "@jupyter-widgets/controls",
          "model_name": "IntProgressModel",
          "state": {
            "_view_name": "ProgressView",
            "style": "IPY_MODEL_8509f27d7b70454f892b7511ecbe8b6b",
            "_dom_classes": [],
            "description": "Computing statistics...: 100%",
            "_model_name": "IntProgressModel",
            "bar_style": "success",
            "max": 1,
            "_view_module": "@jupyter-widgets/controls",
            "_model_module_version": "1.5.0",
            "value": 1,
            "_view_count": null,
            "_view_module_version": "1.5.0",
            "orientation": "horizontal",
            "min": 0,
            "description_tooltip": null,
            "_model_module": "@jupyter-widgets/controls",
            "layout": "IPY_MODEL_265fb5dc73024518b8a6ad0fabaae732"
          }
        },
        "45a1ed560df5485aa7645ef6b9188b69": {
          "model_module": "@jupyter-widgets/controls",
          "model_name": "HTMLModel",
          "state": {
            "_view_name": "HTMLView",
            "style": "IPY_MODEL_37389363b3364abab552f87643b0aa7c",
            "_dom_classes": [],
            "description": "",
            "_model_name": "HTMLModel",
            "placeholder": "​",
            "_view_module": "@jupyter-widgets/controls",
            "_model_module_version": "1.5.0",
            "value": " 1/1 [25:58&lt;00:00, 1558.97s/ split]",
            "_view_count": null,
            "_view_module_version": "1.5.0",
            "description_tooltip": null,
            "_model_module": "@jupyter-widgets/controls",
            "layout": "IPY_MODEL_65a8e4a543df452c859af488f26a8f8b"
          }
        },
        "8509f27d7b70454f892b7511ecbe8b6b": {
          "model_module": "@jupyter-widgets/controls",
          "model_name": "ProgressStyleModel",
          "state": {
            "_view_name": "StyleView",
            "_model_name": "ProgressStyleModel",
            "description_width": "initial",
            "_view_module": "@jupyter-widgets/base",
            "_model_module_version": "1.5.0",
            "_view_count": null,
            "_view_module_version": "1.2.0",
            "bar_color": null,
            "_model_module": "@jupyter-widgets/controls"
          }
        },
        "265fb5dc73024518b8a6ad0fabaae732": {
          "model_module": "@jupyter-widgets/base",
          "model_name": "LayoutModel",
          "state": {
            "_view_name": "LayoutView",
            "grid_template_rows": null,
            "right": null,
            "justify_content": null,
            "_view_module": "@jupyter-widgets/base",
            "overflow": null,
            "_model_module_version": "1.2.0",
            "_view_count": null,
            "flex_flow": null,
            "width": null,
            "min_width": null,
            "border": null,
            "align_items": null,
            "bottom": null,
            "_model_module": "@jupyter-widgets/base",
            "top": null,
            "grid_column": null,
            "overflow_y": null,
            "overflow_x": null,
            "grid_auto_flow": null,
            "grid_area": null,
            "grid_template_columns": null,
            "flex": null,
            "_model_name": "LayoutModel",
            "justify_items": null,
            "grid_row": null,
            "max_height": null,
            "align_content": null,
            "visibility": null,
            "align_self": null,
            "height": null,
            "min_height": null,
            "padding": null,
            "grid_auto_rows": null,
            "grid_gap": null,
            "max_width": null,
            "order": null,
            "_view_module_version": "1.2.0",
            "grid_template_areas": null,
            "object_position": null,
            "object_fit": null,
            "grid_auto_columns": null,
            "margin": null,
            "display": null,
            "left": null
          }
        },
        "37389363b3364abab552f87643b0aa7c": {
          "model_module": "@jupyter-widgets/controls",
          "model_name": "DescriptionStyleModel",
          "state": {
            "_view_name": "StyleView",
            "_model_name": "DescriptionStyleModel",
            "description_width": "",
            "_view_module": "@jupyter-widgets/base",
            "_model_module_version": "1.5.0",
            "_view_count": null,
            "_view_module_version": "1.2.0",
            "_model_module": "@jupyter-widgets/controls"
          }
        },
        "65a8e4a543df452c859af488f26a8f8b": {
          "model_module": "@jupyter-widgets/base",
          "model_name": "LayoutModel",
          "state": {
            "_view_name": "LayoutView",
            "grid_template_rows": null,
            "right": null,
            "justify_content": null,
            "_view_module": "@jupyter-widgets/base",
            "overflow": null,
            "_model_module_version": "1.2.0",
            "_view_count": null,
            "flex_flow": null,
            "width": null,
            "min_width": null,
            "border": null,
            "align_items": null,
            "bottom": null,
            "_model_module": "@jupyter-widgets/base",
            "top": null,
            "grid_column": null,
            "overflow_y": null,
            "overflow_x": null,
            "grid_auto_flow": null,
            "grid_area": null,
            "grid_template_columns": null,
            "flex": null,
            "_model_name": "LayoutModel",
            "justify_items": null,
            "grid_row": null,
            "max_height": null,
            "align_content": null,
            "visibility": null,
            "align_self": null,
            "height": null,
            "min_height": null,
            "padding": null,
            "grid_auto_rows": null,
            "grid_gap": null,
            "max_width": null,
            "order": null,
            "_view_module_version": "1.2.0",
            "grid_template_areas": null,
            "object_position": null,
            "object_fit": null,
            "grid_auto_columns": null,
            "margin": null,
            "display": null,
            "left": null
          }
        },
        "2a9645a520ef4df19cd48823b05c5606": {
          "model_module": "@jupyter-widgets/controls",
          "model_name": "HBoxModel",
          "state": {
            "_view_name": "HBoxView",
            "_dom_classes": [],
            "_model_name": "HBoxModel",
            "_view_module": "@jupyter-widgets/controls",
            "_model_module_version": "1.5.0",
            "_view_count": null,
            "_view_module_version": "1.5.0",
            "box_style": "",
            "layout": "IPY_MODEL_a5a1d9bea9034c57ba556dc2e447c835",
            "_model_module": "@jupyter-widgets/controls",
            "children": [
              "IPY_MODEL_ce387bfbc743459882719dd2006d7f2e",
              "IPY_MODEL_50818cdcce9448e28ecda34760a6ddd6"
            ]
          }
        },
        "a5a1d9bea9034c57ba556dc2e447c835": {
          "model_module": "@jupyter-widgets/base",
          "model_name": "LayoutModel",
          "state": {
            "_view_name": "LayoutView",
            "grid_template_rows": null,
            "right": null,
            "justify_content": null,
            "_view_module": "@jupyter-widgets/base",
            "overflow": null,
            "_model_module_version": "1.2.0",
            "_view_count": null,
            "flex_flow": null,
            "width": null,
            "min_width": null,
            "border": null,
            "align_items": null,
            "bottom": null,
            "_model_module": "@jupyter-widgets/base",
            "top": null,
            "grid_column": null,
            "overflow_y": null,
            "overflow_x": null,
            "grid_auto_flow": null,
            "grid_area": null,
            "grid_template_columns": null,
            "flex": null,
            "_model_name": "LayoutModel",
            "justify_items": null,
            "grid_row": null,
            "max_height": null,
            "align_content": null,
            "visibility": null,
            "align_self": null,
            "height": null,
            "min_height": null,
            "padding": null,
            "grid_auto_rows": null,
            "grid_gap": null,
            "max_width": null,
            "order": null,
            "_view_module_version": "1.2.0",
            "grid_template_areas": null,
            "object_position": null,
            "object_fit": null,
            "grid_auto_columns": null,
            "margin": null,
            "display": null,
            "left": null
          }
        },
        "ce387bfbc743459882719dd2006d7f2e": {
          "model_module": "@jupyter-widgets/controls",
          "model_name": "IntProgressModel",
          "state": {
            "_view_name": "ProgressView",
            "style": "IPY_MODEL_a04dfe1ec3a943bfa0d7c35eb992c84e",
            "_dom_classes": [],
            "description": "",
            "_model_name": "IntProgressModel",
            "bar_style": "info",
            "max": 1,
            "_view_module": "@jupyter-widgets/controls",
            "_model_module_version": "1.5.0",
            "value": 1,
            "_view_count": null,
            "_view_module_version": "1.5.0",
            "orientation": "horizontal",
            "min": 0,
            "description_tooltip": null,
            "_model_module": "@jupyter-widgets/controls",
            "layout": "IPY_MODEL_8b5903f185ba4f92837cb53c217990cc"
          }
        },
        "50818cdcce9448e28ecda34760a6ddd6": {
          "model_module": "@jupyter-widgets/controls",
          "model_name": "HTMLModel",
          "state": {
            "_view_name": "HTMLView",
            "style": "IPY_MODEL_79f09189962e4746a862dd3f3df19ae9",
            "_dom_classes": [],
            "description": "",
            "_model_name": "HTMLModel",
            "placeholder": "​",
            "_view_module": "@jupyter-widgets/controls",
            "_model_module_version": "1.5.0",
            "value": " 792113/? [05:54&lt;00:00, 2298.31 examples/s]",
            "_view_count": null,
            "_view_module_version": "1.5.0",
            "description_tooltip": null,
            "_model_module": "@jupyter-widgets/controls",
            "layout": "IPY_MODEL_01413b74318f44a8946cce1d0ec0a675"
          }
        },
        "a04dfe1ec3a943bfa0d7c35eb992c84e": {
          "model_module": "@jupyter-widgets/controls",
          "model_name": "ProgressStyleModel",
          "state": {
            "_view_name": "StyleView",
            "_model_name": "ProgressStyleModel",
            "description_width": "initial",
            "_view_module": "@jupyter-widgets/base",
            "_model_module_version": "1.5.0",
            "_view_count": null,
            "_view_module_version": "1.2.0",
            "bar_color": null,
            "_model_module": "@jupyter-widgets/controls"
          }
        },
        "8b5903f185ba4f92837cb53c217990cc": {
          "model_module": "@jupyter-widgets/base",
          "model_name": "LayoutModel",
          "state": {
            "_view_name": "LayoutView",
            "grid_template_rows": null,
            "right": null,
            "justify_content": null,
            "_view_module": "@jupyter-widgets/base",
            "overflow": null,
            "_model_module_version": "1.2.0",
            "_view_count": null,
            "flex_flow": null,
            "width": null,
            "min_width": null,
            "border": null,
            "align_items": null,
            "bottom": null,
            "_model_module": "@jupyter-widgets/base",
            "top": null,
            "grid_column": null,
            "overflow_y": null,
            "overflow_x": null,
            "grid_auto_flow": null,
            "grid_area": null,
            "grid_template_columns": null,
            "flex": null,
            "_model_name": "LayoutModel",
            "justify_items": null,
            "grid_row": null,
            "max_height": null,
            "align_content": null,
            "visibility": null,
            "align_self": null,
            "height": null,
            "min_height": null,
            "padding": null,
            "grid_auto_rows": null,
            "grid_gap": null,
            "max_width": null,
            "order": null,
            "_view_module_version": "1.2.0",
            "grid_template_areas": null,
            "object_position": null,
            "object_fit": null,
            "grid_auto_columns": null,
            "margin": null,
            "display": null,
            "left": null
          }
        },
        "79f09189962e4746a862dd3f3df19ae9": {
          "model_module": "@jupyter-widgets/controls",
          "model_name": "DescriptionStyleModel",
          "state": {
            "_view_name": "StyleView",
            "_model_name": "DescriptionStyleModel",
            "description_width": "",
            "_view_module": "@jupyter-widgets/base",
            "_model_module_version": "1.5.0",
            "_view_count": null,
            "_view_module_version": "1.2.0",
            "_model_module": "@jupyter-widgets/controls"
          }
        },
        "01413b74318f44a8946cce1d0ec0a675": {
          "model_module": "@jupyter-widgets/base",
          "model_name": "LayoutModel",
          "state": {
            "_view_name": "LayoutView",
            "grid_template_rows": null,
            "right": null,
            "justify_content": null,
            "_view_module": "@jupyter-widgets/base",
            "overflow": null,
            "_model_module_version": "1.2.0",
            "_view_count": null,
            "flex_flow": null,
            "width": null,
            "min_width": null,
            "border": null,
            "align_items": null,
            "bottom": null,
            "_model_module": "@jupyter-widgets/base",
            "top": null,
            "grid_column": null,
            "overflow_y": null,
            "overflow_x": null,
            "grid_auto_flow": null,
            "grid_area": null,
            "grid_template_columns": null,
            "flex": null,
            "_model_name": "LayoutModel",
            "justify_items": null,
            "grid_row": null,
            "max_height": null,
            "align_content": null,
            "visibility": null,
            "align_self": null,
            "height": null,
            "min_height": null,
            "padding": null,
            "grid_auto_rows": null,
            "grid_gap": null,
            "max_width": null,
            "order": null,
            "_view_module_version": "1.2.0",
            "grid_template_areas": null,
            "object_position": null,
            "object_fit": null,
            "grid_auto_columns": null,
            "margin": null,
            "display": null,
            "left": null
          }
        }
      }
    }
  },
  "cells": [
    {
      "cell_type": "markdown",
      "metadata": {
        "id": "view-in-github",
        "colab_type": "text"
      },
      "source": [
        "<a href=\"https://colab.research.google.com/github/mohankgaddam/Model_Deployment/blob/master/Sentiment_Analysis.ipynb\" target=\"_parent\"><img src=\"https://colab.research.google.com/assets/colab-badge.svg\" alt=\"Open In Colab\"/></a>"
      ]
    },
    {
      "cell_type": "markdown",
      "metadata": {
        "id": "UXLGWLwaDdbT",
        "colab_type": "text"
      },
      "source": [
        "In this Notebook, I built a text classification model using tensorflow to predict the sentiment of reviews for furniture products. I used Amazon Furniture product reviews to train the model."
      ]
    },
    {
      "cell_type": "markdown",
      "metadata": {
        "id": "KiQofQjgDMRE",
        "colab_type": "text"
      },
      "source": [
        "# 1) Initialization\n",
        "\n",
        "\n",
        "\n",
        "\n"
      ]
    },
    {
      "cell_type": "markdown",
      "metadata": {
        "id": "AdmqrT0vDlLT",
        "colab_type": "text"
      },
      "source": [
        "## **1.1) Examine the GPU Configuration**"
      ]
    },
    {
      "cell_type": "code",
      "metadata": {
        "id": "6mKrG7HBDeSp",
        "colab_type": "code",
        "outputId": "d2d3a335-bd4c-4990-d0ed-88292ab65c18",
        "colab": {
          "base_uri": "https://localhost:8080/",
          "height": 302
        }
      },
      "source": [
        "!nvidia-smi"
      ],
      "execution_count": 1,
      "outputs": [
        {
          "output_type": "stream",
          "text": [
            "Sun Apr 19 22:46:17 2020       \n",
            "+-----------------------------------------------------------------------------+\n",
            "| NVIDIA-SMI 440.64.00    Driver Version: 418.67       CUDA Version: 10.1     |\n",
            "|-------------------------------+----------------------+----------------------+\n",
            "| GPU  Name        Persistence-M| Bus-Id        Disp.A | Volatile Uncorr. ECC |\n",
            "| Fan  Temp  Perf  Pwr:Usage/Cap|         Memory-Usage | GPU-Util  Compute M. |\n",
            "|===============================+======================+======================|\n",
            "|   0  Tesla P100-PCIE...  Off  | 00000000:00:04.0 Off |                    0 |\n",
            "| N/A   36C    P0    29W / 250W |      0MiB / 16280MiB |      0%      Default |\n",
            "+-------------------------------+----------------------+----------------------+\n",
            "                                                                               \n",
            "+-----------------------------------------------------------------------------+\n",
            "| Processes:                                                       GPU Memory |\n",
            "|  GPU       PID   Type   Process name                             Usage      |\n",
            "|=============================================================================|\n",
            "|  No running processes found                                                 |\n",
            "+-----------------------------------------------------------------------------+\n"
          ],
          "name": "stdout"
        }
      ]
    },
    {
      "cell_type": "markdown",
      "metadata": {
        "id": "aEXNO3hMEaRT",
        "colab_type": "text"
      },
      "source": [
        "## 1.2) Import required packages"
      ]
    },
    {
      "cell_type": "code",
      "metadata": {
        "id": "ZH8wOpQOCyVv",
        "colab_type": "code",
        "outputId": "8b982175-e30a-432f-a0db-3d471ac57782",
        "colab": {
          "base_uri": "https://localhost:8080/",
          "height": 101
        }
      },
      "source": [
        "import datetime\n",
        "import matplotlib.pyplot as plt\n",
        "import os\n",
        "import tensorflow as tf\n",
        "import tensorflow_datasets as tfds\n",
        "\n",
        "print(tf.__version__)\n",
        "tf.config.experimental.list_physical_devices()"
      ],
      "execution_count": 2,
      "outputs": [
        {
          "output_type": "stream",
          "text": [
            "2.2.0-rc3\n"
          ],
          "name": "stdout"
        },
        {
          "output_type": "execute_result",
          "data": {
            "text/plain": [
              "[PhysicalDevice(name='/physical_device:CPU:0', device_type='CPU'),\n",
              " PhysicalDevice(name='/physical_device:XLA_CPU:0', device_type='XLA_CPU'),\n",
              " PhysicalDevice(name='/physical_device:XLA_GPU:0', device_type='XLA_GPU'),\n",
              " PhysicalDevice(name='/physical_device:GPU:0', device_type='GPU')]"
            ]
          },
          "metadata": {
            "tags": []
          },
          "execution_count": 2
        }
      ]
    },
    {
      "cell_type": "markdown",
      "metadata": {
        "id": "hvdEOnTYD4A8",
        "colab_type": "text"
      },
      "source": [
        "# 2) Pull Source Data"
      ]
    },
    {
      "cell_type": "markdown",
      "metadata": {
        "id": "ZHeHSQkTGXOL",
        "colab_type": "text"
      },
      "source": [
        "I am using the amazon reviews dataset available in tensorflow for sentiment analysis. Specifically, I am considering only the reviews corresponding to Amazon Furniture products in US Marketplace.\n",
        "\n",
        "More information about these datasets can be found at:\n",
        "\n",
        "https://www.tensorflow.org/datasets/catalog/amazon_us_reviews\n",
        "https://www.tensorflow.org/datasets/catalog/amazon_us_reviews#amazon_us_reviewsfurniture_v1_00"
      ]
    },
    {
      "cell_type": "code",
      "metadata": {
        "id": "c3K4Dop-Gd9Y",
        "colab_type": "code",
        "outputId": "22b1275f-5a93-45f5-a40c-bd6a173d3c8c",
        "colab": {
          "base_uri": "https://localhost:8080/",
          "height": 415,
          "referenced_widgets": [
            "2396ca27d78f474994add4d755b6d8c4",
            "0e2dc1c66cfc41b68384079f63dac9e0",
            "72e6f382cf9b4661b9b17ac5e486c4f1",
            "592f17c92ad14610ac951e19d2171f98",
            "3602a1c6a5174bd585ba67b1dead3f87",
            "643030ceab4c4b2d9f1b4aa329fc49dc",
            "cadbc51b47de46a8913c12158710cbe2",
            "437852d7beb34dfb85054a0ac4fab026",
            "590b04c220af44cc9917a966eb8a0edf",
            "2806146455e743f2917d6800b414564a",
            "7625806a26fe4bcab3e6579f2c1bb43b",
            "8966a726fb554b04ba64332f47985008",
            "f796cc52d9e84affa541ea9a51315752",
            "ef4f73016aeb41449bac92bb5b9be0ee",
            "f066da7532954a8fa5930475b35536f2",
            "e8701183a8ea49109e03f6c72ea0266a",
            "26722463bc3f4455be1439a9e286bad9",
            "889f82f8ba074deea8828667bc2514d3",
            "43a370d5d26c4ecdb0b0030d642eb3b9",
            "57f9a3403ff347e69e9984333938082f",
            "7260d358a67140b18d0ac33d58484f86",
            "3d041538694c4d15b921632c6c62ed82",
            "6e9a8c0b0cd249579e52caed572b5035",
            "a59febfe58f44088bb200983dd3bbb57",
            "bf07578f75cc4f0d9c4463f66010bdea",
            "2a39f0aef62b404ca5efb28a1f1fe49b",
            "96526660f0234bffbb77888ecc97d82a",
            "a13eeddc2e754b528b94ceceb0faa5f9",
            "b642ed5044a747898f12f5217b65b606",
            "a2d619f6faae4616bedb3e2759f17d48",
            "a3f8430db4fb42d098820a1f61e8dc66",
            "3dc16bcd6fbc42bb9355e7dddc1c70a1",
            "734e7530297f4378a78b350fc3f27d79",
            "7ab4a4ca5123480baa52650727e9eb50",
            "630eefad687443b085fcb3d99882117a",
            "c4eaf337e3c04130bf8183d04d7e90cd",
            "921f976c0f8f4ca5b3396ddcae7c84aa",
            "49899e562ece4c63bef029dc1a792638",
            "31eb5f8e75ea4100ac706aa0672bab20",
            "20e8aa754e8e4ae99e82a643a3993343",
            "075f3166e3c949bf916cbf51293a4951",
            "c8118dc2b2214274a8e0c1002f40215f",
            "117bcadd4002417ba93d247aadb5b842",
            "45a1ed560df5485aa7645ef6b9188b69",
            "8509f27d7b70454f892b7511ecbe8b6b",
            "265fb5dc73024518b8a6ad0fabaae732",
            "37389363b3364abab552f87643b0aa7c",
            "65a8e4a543df452c859af488f26a8f8b",
            "2a9645a520ef4df19cd48823b05c5606",
            "a5a1d9bea9034c57ba556dc2e447c835",
            "ce387bfbc743459882719dd2006d7f2e",
            "50818cdcce9448e28ecda34760a6ddd6",
            "a04dfe1ec3a943bfa0d7c35eb992c84e",
            "8b5903f185ba4f92837cb53c217990cc",
            "79f09189962e4746a862dd3f3df19ae9",
            "01413b74318f44a8946cce1d0ec0a675"
          ]
        }
      },
      "source": [
        "ds, info = tfds.load('amazon_us_reviews/Furniture_v1_00', with_info=True)"
      ],
      "execution_count": 3,
      "outputs": [
        {
          "output_type": "stream",
          "text": [
            "\u001b[1mDownloading and preparing dataset amazon_us_reviews/Furniture_v1_00/0.1.0 (download: 142.08 MiB, generated: Unknown size, total: 142.08 MiB) to /root/tensorflow_datasets/amazon_us_reviews/Furniture_v1_00/0.1.0...\u001b[0m\n"
          ],
          "name": "stdout"
        },
        {
          "output_type": "display_data",
          "data": {
            "application/vnd.jupyter.widget-view+json": {
              "model_id": "2396ca27d78f474994add4d755b6d8c4",
              "version_minor": 0,
              "version_major": 2
            },
            "text/plain": [
              "HBox(children=(IntProgress(value=1, bar_style='info', description='Dl Completed...', max=1, style=ProgressStyl…"
            ]
          },
          "metadata": {
            "tags": []
          }
        },
        {
          "output_type": "display_data",
          "data": {
            "application/vnd.jupyter.widget-view+json": {
              "model_id": "590b04c220af44cc9917a966eb8a0edf",
              "version_minor": 0,
              "version_major": 2
            },
            "text/plain": [
              "HBox(children=(IntProgress(value=1, bar_style='info', description='Dl Size...', max=1, style=ProgressStyle(des…"
            ]
          },
          "metadata": {
            "tags": []
          }
        },
        {
          "output_type": "display_data",
          "data": {
            "application/vnd.jupyter.widget-view+json": {
              "model_id": "26722463bc3f4455be1439a9e286bad9",
              "version_minor": 0,
              "version_major": 2
            },
            "text/plain": [
              "HBox(children=(IntProgress(value=1, bar_style='info', description='Extraction completed...', max=1, style=Prog…"
            ]
          },
          "metadata": {
            "tags": []
          }
        },
        {
          "output_type": "stream",
          "text": [
            "/usr/local/lib/python3.6/dist-packages/urllib3/connectionpool.py:847: InsecureRequestWarning: Unverified HTTPS request is being made. Adding certificate verification is strongly advised. See: https://urllib3.readthedocs.io/en/latest/advanced-usage.html#ssl-warnings\n",
            "  InsecureRequestWarning)\n"
          ],
          "name": "stderr"
        },
        {
          "output_type": "stream",
          "text": [
            "\n",
            "\n",
            "\n",
            "\n",
            "\n",
            "\n"
          ],
          "name": "stdout"
        },
        {
          "output_type": "display_data",
          "data": {
            "application/vnd.jupyter.widget-view+json": {
              "model_id": "bf07578f75cc4f0d9c4463f66010bdea",
              "version_minor": 0,
              "version_major": 2
            },
            "text/plain": [
              "HBox(children=(IntProgress(value=1, bar_style='info', max=1), HTML(value='')))"
            ]
          },
          "metadata": {
            "tags": []
          }
        },
        {
          "output_type": "stream",
          "text": [
            "\rShuffling and writing examples to /root/tensorflow_datasets/amazon_us_reviews/Furniture_v1_00/0.1.0.incompleteDCSDSX/amazon_us_reviews-train.tfrecord\n"
          ],
          "name": "stdout"
        },
        {
          "output_type": "display_data",
          "data": {
            "application/vnd.jupyter.widget-view+json": {
              "model_id": "734e7530297f4378a78b350fc3f27d79",
              "version_minor": 0,
              "version_major": 2
            },
            "text/plain": [
              "HBox(children=(IntProgress(value=0, max=792113), HTML(value='')))"
            ]
          },
          "metadata": {
            "tags": []
          }
        },
        {
          "output_type": "display_data",
          "data": {
            "application/vnd.jupyter.widget-view+json": {
              "model_id": "075f3166e3c949bf916cbf51293a4951",
              "version_minor": 0,
              "version_major": 2
            },
            "text/plain": [
              "HBox(children=(IntProgress(value=0, description='Computing statistics...', max=1, style=ProgressStyle(descript…"
            ]
          },
          "metadata": {
            "tags": []
          }
        },
        {
          "output_type": "stream",
          "text": [
            "\r"
          ],
          "name": "stdout"
        },
        {
          "output_type": "display_data",
          "data": {
            "application/vnd.jupyter.widget-view+json": {
              "model_id": "2a9645a520ef4df19cd48823b05c5606",
              "version_minor": 0,
              "version_major": 2
            },
            "text/plain": [
              "HBox(children=(IntProgress(value=1, bar_style='info', max=1), HTML(value='')))"
            ]
          },
          "metadata": {
            "tags": []
          }
        },
        {
          "output_type": "stream",
          "text": [
            "ERROR:absl:Statistics generation doesn't work for nested structures yet\n"
          ],
          "name": "stderr"
        },
        {
          "output_type": "stream",
          "text": [
            "\r\n",
            "\u001b[1mDataset amazon_us_reviews downloaded and prepared to /root/tensorflow_datasets/amazon_us_reviews/Furniture_v1_00/0.1.0. Subsequent calls will reuse this data.\u001b[0m\n"
          ],
          "name": "stdout"
        }
      ]
    },
    {
      "cell_type": "code",
      "metadata": {
        "id": "j5HRu3tNAqiP",
        "colab_type": "code",
        "colab": {}
      },
      "source": [
        "train_ds = ds[\"train\"].take(300000)"
      ],
      "execution_count": 0,
      "outputs": []
    },
    {
      "cell_type": "markdown",
      "metadata": {
        "id": "ea9cAYtQGtpO",
        "colab_type": "text"
      },
      "source": [
        "# 3) Data Preparation for Training"
      ]
    },
    {
      "cell_type": "code",
      "metadata": {
        "id": "AwGhWtODHcj8",
        "colab_type": "code",
        "colab": {}
      },
      "source": [
        "BUFFER_SIZE = 50000\n",
        "BATCH_SIZE = 128"
      ],
      "execution_count": 0,
      "outputs": []
    },
    {
      "cell_type": "markdown",
      "metadata": {
        "id": "AknrLBdKG5Fm",
        "colab_type": "text"
      },
      "source": [
        "**Shuffle the train data to make sure the data is randomized**"
      ]
    },
    {
      "cell_type": "code",
      "metadata": {
        "id": "Y5RoX4NexuDo",
        "colab_type": "code",
        "colab": {}
      },
      "source": [
        "train_ds = train_ds.shuffle(BUFFER_SIZE, reshuffle_each_iteration=False)"
      ],
      "execution_count": 0,
      "outputs": []
    },
    {
      "cell_type": "markdown",
      "metadata": {
        "id": "InnO67vpJnCU",
        "colab_type": "text"
      },
      "source": [
        "**Lets look at the first 5 rows of the train dataset**"
      ]
    },
    {
      "cell_type": "code",
      "metadata": {
        "id": "5QJwtENJJhkI",
        "colab_type": "code",
        "outputId": "4369c5c9-272a-490e-cdfc-6d44a3dba33f",
        "colab": {
          "base_uri": "https://localhost:8080/",
          "height": 121
        }
      },
      "source": [
        "for review in train_ds.take(5):\n",
        "  print(review)"
      ],
      "execution_count": 7,
      "outputs": [
        {
          "output_type": "stream",
          "text": [
            "{'data': {'customer_id': <tf.Tensor: shape=(), dtype=string, numpy=b'16021291'>, 'helpful_votes': <tf.Tensor: shape=(), dtype=int32, numpy=4>, 'marketplace': <tf.Tensor: shape=(), dtype=string, numpy=b'US'>, 'product_category': <tf.Tensor: shape=(), dtype=string, numpy=b'Furniture'>, 'product_id': <tf.Tensor: shape=(), dtype=string, numpy=b'B009IWJU66'>, 'product_parent': <tf.Tensor: shape=(), dtype=string, numpy=b'860711835'>, 'product_title': <tf.Tensor: shape=(), dtype=string, numpy=b\"Big Joe Fuf 6' Media Lounger, Zebra Twill\">, 'review_body': <tf.Tensor: shape=(), dtype=string, numpy=b\"I ordered this for my dorm and I absolutely love it! It's so comfy and fun to lay on and just Do my homework... Thank you so much do the great product!!!\">, 'review_date': <tf.Tensor: shape=(), dtype=string, numpy=b'2013-02-05'>, 'review_headline': <tf.Tensor: shape=(), dtype=string, numpy=b'Love it!'>, 'review_id': <tf.Tensor: shape=(), dtype=string, numpy=b'R3RGNCINAE5WOY'>, 'star_rating': <tf.Tensor: shape=(), dtype=int32, numpy=5>, 'total_votes': <tf.Tensor: shape=(), dtype=int32, numpy=4>, 'verified_purchase': <tf.Tensor: shape=(), dtype=int64, numpy=1>, 'vine': <tf.Tensor: shape=(), dtype=int64, numpy=1>}}\n",
            "{'data': {'customer_id': <tf.Tensor: shape=(), dtype=string, numpy=b'16598019'>, 'helpful_votes': <tf.Tensor: shape=(), dtype=int32, numpy=1>, 'marketplace': <tf.Tensor: shape=(), dtype=string, numpy=b'US'>, 'product_category': <tf.Tensor: shape=(), dtype=string, numpy=b'Furniture'>, 'product_id': <tf.Tensor: shape=(), dtype=string, numpy=b'B00LKKISYE'>, 'product_parent': <tf.Tensor: shape=(), dtype=string, numpy=b'709990778'>, 'product_title': <tf.Tensor: shape=(), dtype=string, numpy=b\"Turquoise Gray White Black 8x10 (7'10x10'2) Black Isfahan Area Rug Oriental Carpet Large New 662\">, 'review_body': <tf.Tensor: shape=(), dtype=string, numpy=b'Beautiful color!'>, 'review_date': <tf.Tensor: shape=(), dtype=string, numpy=b'2015-04-08'>, 'review_headline': <tf.Tensor: shape=(), dtype=string, numpy=b'Five Stars'>, 'review_id': <tf.Tensor: shape=(), dtype=string, numpy=b'R3LKB8V7XSJSLZ'>, 'star_rating': <tf.Tensor: shape=(), dtype=int32, numpy=5>, 'total_votes': <tf.Tensor: shape=(), dtype=int32, numpy=3>, 'verified_purchase': <tf.Tensor: shape=(), dtype=int64, numpy=0>, 'vine': <tf.Tensor: shape=(), dtype=int64, numpy=1>}}\n",
            "{'data': {'customer_id': <tf.Tensor: shape=(), dtype=string, numpy=b'46251470'>, 'helpful_votes': <tf.Tensor: shape=(), dtype=int32, numpy=0>, 'marketplace': <tf.Tensor: shape=(), dtype=string, numpy=b'US'>, 'product_category': <tf.Tensor: shape=(), dtype=string, numpy=b'Furniture'>, 'product_id': <tf.Tensor: shape=(), dtype=string, numpy=b'B000PWGZOI'>, 'product_parent': <tf.Tensor: shape=(), dtype=string, numpy=b'653457339'>, 'product_title': <tf.Tensor: shape=(), dtype=string, numpy=b'SPACE Seating Professional AirGrid Dark Back and Padded Black Eco Leather Seat, Fixed Arms and Lumbar Support Sled Base Visitors Chair'>, 'review_body': <tf.Tensor: shape=(), dtype=string, numpy=b'Easy to assemble and very sturdy.'>, 'review_date': <tf.Tensor: shape=(), dtype=string, numpy=b'2015-02-18'>, 'review_headline': <tf.Tensor: shape=(), dtype=string, numpy=b'Five Stars'>, 'review_id': <tf.Tensor: shape=(), dtype=string, numpy=b'R2Y2R2O82M7UBC'>, 'star_rating': <tf.Tensor: shape=(), dtype=int32, numpy=5>, 'total_votes': <tf.Tensor: shape=(), dtype=int32, numpy=0>, 'verified_purchase': <tf.Tensor: shape=(), dtype=int64, numpy=0>, 'vine': <tf.Tensor: shape=(), dtype=int64, numpy=1>}}\n",
            "{'data': {'customer_id': <tf.Tensor: shape=(), dtype=string, numpy=b'49899902'>, 'helpful_votes': <tf.Tensor: shape=(), dtype=int32, numpy=0>, 'marketplace': <tf.Tensor: shape=(), dtype=string, numpy=b'US'>, 'product_category': <tf.Tensor: shape=(), dtype=string, numpy=b'Furniture'>, 'product_id': <tf.Tensor: shape=(), dtype=string, numpy=b'B003WAOVGY'>, 'product_parent': <tf.Tensor: shape=(), dtype=string, numpy=b'306268783'>, 'product_title': <tf.Tensor: shape=(), dtype=string, numpy=b'Wireless X Rocker Pro Series Video Rocker with Vibration'>, 'review_body': <tf.Tensor: shape=(), dtype=string, numpy=b'My son loves this.have had go mor than a year with no problems.'>, 'review_date': <tf.Tensor: shape=(), dtype=string, numpy=b'2015-01-25'>, 'review_headline': <tf.Tensor: shape=(), dtype=string, numpy=b'My son loves this. have had go mor than ...'>, 'review_id': <tf.Tensor: shape=(), dtype=string, numpy=b'R1DQNTBE91TA9Y'>, 'star_rating': <tf.Tensor: shape=(), dtype=int32, numpy=5>, 'total_votes': <tf.Tensor: shape=(), dtype=int32, numpy=0>, 'verified_purchase': <tf.Tensor: shape=(), dtype=int64, numpy=0>, 'vine': <tf.Tensor: shape=(), dtype=int64, numpy=1>}}\n",
            "{'data': {'customer_id': <tf.Tensor: shape=(), dtype=string, numpy=b'20147384'>, 'helpful_votes': <tf.Tensor: shape=(), dtype=int32, numpy=8>, 'marketplace': <tf.Tensor: shape=(), dtype=string, numpy=b'US'>, 'product_category': <tf.Tensor: shape=(), dtype=string, numpy=b'Furniture'>, 'product_id': <tf.Tensor: shape=(), dtype=string, numpy=b'B0094PQIPI'>, 'product_parent': <tf.Tensor: shape=(), dtype=string, numpy=b'829386502'>, 'product_title': <tf.Tensor: shape=(), dtype=string, numpy=b'Coaster 300125 Sofa Beds Futon Styled Sofa Sleeper with Casual Furniture'>, 'review_body': <tf.Tensor: shape=(), dtype=string, numpy=b'Had to nail 2 wooden blocks under both the rails, and had to nail a wooden board just to  keep the damn thing straight and sturdy. It feels like i just got ripped off because it was made cheap. Not impressed...'>, 'review_date': <tf.Tensor: shape=(), dtype=string, numpy=b'2015-04-20'>, 'review_headline': <tf.Tensor: shape=(), dtype=string, numpy=b\"Don't get it!\">, 'review_id': <tf.Tensor: shape=(), dtype=string, numpy=b'R3AZA49X0EORRM'>, 'star_rating': <tf.Tensor: shape=(), dtype=int32, numpy=1>, 'total_votes': <tf.Tensor: shape=(), dtype=int32, numpy=9>, 'verified_purchase': <tf.Tensor: shape=(), dtype=int64, numpy=0>, 'vine': <tf.Tensor: shape=(), dtype=int64, numpy=1>}}\n"
          ],
          "name": "stdout"
        }
      ]
    },
    {
      "cell_type": "markdown",
      "metadata": {
        "id": "cT2AsUDWKEDk",
        "colab_type": "text"
      },
      "source": [
        "**Tokenize the data and build the vocabulary set**"
      ]
    },
    {
      "cell_type": "code",
      "metadata": {
        "id": "oF7x9pvL1T9g",
        "colab_type": "code",
        "outputId": "efd88ed8-a938-4923-f75f-c6de84852357",
        "colab": {
          "base_uri": "https://localhost:8080/",
          "height": 34
        }
      },
      "source": [
        "tokenizer = tfds.features.text.Tokenizer()\n",
        "\n",
        "#Initialize a vocabulary as a set data structure to ensure there are no duplicates in the vocabulary words\n",
        "vocab_set = set()  \n",
        "\n",
        "#Iterate through each review in the train data and \n",
        "#update the vocabulary set with the unique words in the review text\n",
        "for _, review in train_ds.enumerate():\n",
        "  review_data = review['data']\n",
        "  review_tokens = tokenizer.tokenize(review_data.get('review_body').numpy())\n",
        "  vocab_set.update(review_tokens)\n",
        "\n",
        "vocab_size = len(vocab_set)\n",
        "print(\"vocabulory size is: \", vocab_size) \n",
        "\n",
        "#Encode the vocabulary words into numbers \n",
        "encoder = tfds.features.text.TokenTextEncoder(vocab_set)\n"
      ],
      "execution_count": 8,
      "outputs": [
        {
          "output_type": "stream",
          "text": [
            "vocabulory size is:  87988\n"
          ],
          "name": "stdout"
        }
      ]
    },
    {
      "cell_type": "markdown",
      "metadata": {
        "id": "plaUIRiUKiXc",
        "colab_type": "text"
      },
      "source": [
        "**Get the encoded values and the corresponding label (0 or 1) from all the reviews in the train data**"
      ]
    },
    {
      "cell_type": "code",
      "metadata": {
        "id": "DKC1rlKh-0X4",
        "colab_type": "code",
        "colab": {}
      },
      "source": [
        "def encode_and_label(text_tensor, rating_tensor):\n",
        "  '''\n",
        "  Input: text, rating tensors\n",
        "\n",
        "  Output: encoded text and label\n",
        "  '''\n",
        "  encoded_text = encoder.encode(text_tensor.numpy())\n",
        "  label = tf.where(rating_tensor > 3, 1, 0)\n",
        "\n",
        "  return encoded_text, label"
      ],
      "execution_count": 0,
      "outputs": []
    },
    {
      "cell_type": "code",
      "metadata": {
        "id": "yZwSktErKc74",
        "colab_type": "code",
        "colab": {}
      },
      "source": [
        "def encode_map_fn(tensor):\n",
        "  '''\n",
        "  This function gets the review text and rating from the tensor object,\n",
        "  and returns the encoded review text along with the binary label (1 for positive review, 0 for negative review)\n",
        "  \n",
        "  Input : A review tensor\n",
        "  \n",
        "  Output: encoded review text and the label  \n",
        "  '''\n",
        "\n",
        "  #Get review text and rating  \n",
        "  review_text = tensor['data'].get('review_body')\n",
        "  review_rating = tensor['data'].get('star_rating')\n",
        "\n",
        "  #Get the encoded text and the corresponding label\n",
        "  encoded_text, label = tf.py_function(encode_and_label, \n",
        "                                       inp=[review_text, review_rating], \n",
        "                                       Tout=(tf.int64, tf.int32))\n",
        "  \n",
        "\n",
        "  return encoded_text, label"
      ],
      "execution_count": 0,
      "outputs": []
    },
    {
      "cell_type": "code",
      "metadata": {
        "id": "TlhhuJbsKw4Y",
        "colab_type": "code",
        "colab": {}
      },
      "source": [
        "train_encoded_ds = train_ds.map(encode_map_fn)"
      ],
      "execution_count": 0,
      "outputs": []
    },
    {
      "cell_type": "code",
      "metadata": {
        "id": "ix7Rmu4XKxBy",
        "colab_type": "code",
        "outputId": "92327844-2db5-4fdd-bdb6-0a115ab81481",
        "colab": {
          "base_uri": "https://localhost:8080/",
          "height": 168
        }
      },
      "source": [
        "#Let`s look at a few sample records of encoded train data.\n",
        "for text,label in train_encoded_ds.take(3):\n",
        "  print(text)\n",
        "  print(label)"
      ],
      "execution_count": 12,
      "outputs": [
        {
          "output_type": "stream",
          "text": [
            "tf.Tensor(\n",
            "[32719 10493  4256 46498 56722 14171 23947 32719 77178 85795  3950 65271\n",
            "  9021 79736 57797 23947 31445 32192 64207   398 23947  6617 42753 56722\n",
            " 60937 32001 38591 79736  3287 14781 33735 34168  6969], shape=(33,), dtype=int64)\n",
            "tf.Tensor(1, shape=(), dtype=int32)\n",
            "tf.Tensor([81737 15931], shape=(2,), dtype=int64)\n",
            "tf.Tensor(1, shape=(), dtype=int32)\n",
            "tf.Tensor([12146 32192 10910 23947  1903 42367], shape=(6,), dtype=int64)\n",
            "tf.Tensor(1, shape=(), dtype=int32)\n"
          ],
          "name": "stdout"
        }
      ]
    },
    {
      "cell_type": "markdown",
      "metadata": {
        "id": "puaP2JZMLFr_",
        "colab_type": "text"
      },
      "source": [
        "**Create a Callback to store the best model**"
      ]
    },
    {
      "cell_type": "code",
      "metadata": {
        "id": "o9n2XYGwKxGQ",
        "colab_type": "code",
        "colab": {}
      },
      "source": [
        "checkpointer = tf.keras.callbacks.ModelCheckpoint(filepath = '/tmp/sentiment_analysis.hdf5', verbose=1, save_best_only=True)"
      ],
      "execution_count": 0,
      "outputs": []
    },
    {
      "cell_type": "markdown",
      "metadata": {
        "id": "DrOCeaPRBhTS",
        "colab_type": "text"
      },
      "source": [
        "#4) Train & Validation data Split"
      ]
    },
    {
      "cell_type": "code",
      "metadata": {
        "id": "tQgrPxgRKxAY",
        "colab_type": "code",
        "colab": {}
      },
      "source": [
        "VALIDATION_DATA_SIZE = 15000\n",
        "\n",
        "train_data = train_encoded_ds.skip(VALIDATION_DATA_SIZE).shuffle(BUFFER_SIZE)           #Skip validation rows, shuffle and assign the remaining rows to train data\n",
        "train_data = train_data.padded_batch(BATCH_SIZE, padded_shapes=([None], []))            #Pad for each batch\n",
        "\n",
        "validation_data = train_encoded_ds.take(VALIDATION_DATA_SIZE)\n",
        "validation_data = validation_data.padded_batch(BATCH_SIZE, padded_shapes=([None], []))\n",
        "\n",
        "vocab_size = vocab_size + 1"
      ],
      "execution_count": 0,
      "outputs": []
    },
    {
      "cell_type": "markdown",
      "metadata": {
        "id": "K8XCXi5TNKPI",
        "colab_type": "text"
      },
      "source": [
        "#5) Model Training"
      ]
    },
    {
      "cell_type": "code",
      "metadata": {
        "id": "3YuqA7rpF5-P",
        "colab_type": "code",
        "colab": {}
      },
      "source": [
        "model = tf.keras.Sequential([\n",
        "    tf.keras.layers.Embedding(vocab_size, 128),\n",
        "    tf.keras.layers.Bidirectional(tf.keras.layers.LSTM(128,  return_sequences=True)),\n",
        "    tf.keras.layers.Bidirectional(tf.keras.layers.LSTM(64)),\n",
        "    tf.keras.layers.Dense(32, activation='relu'),\n",
        "    tf.keras.layers.Dropout(0.5),\n",
        "    tf.keras.layers.Dense(1)\n",
        "])"
      ],
      "execution_count": 0,
      "outputs": []
    },
    {
      "cell_type": "code",
      "metadata": {
        "id": "FTETJLDTPqBs",
        "colab_type": "code",
        "colab": {}
      },
      "source": [
        "model.compile(optimizer='adam',\n",
        "              loss=tf.keras.losses.BinaryCrossentropy(from_logits=True),\n",
        "              metrics=['accuracy'])"
      ],
      "execution_count": 0,
      "outputs": []
    },
    {
      "cell_type": "code",
      "metadata": {
        "id": "69REGD9NPrXz",
        "colab_type": "code",
        "outputId": "cbc4abc7-77ab-4a73-b617-f8bb68e6665f",
        "colab": {
          "base_uri": "https://localhost:8080/",
          "height": 353
        }
      },
      "source": [
        "history = model.fit(train_data, epochs=5, validation_data = validation_data, callbacks=[checkpointer])"
      ],
      "execution_count": 17,
      "outputs": [
        {
          "output_type": "stream",
          "text": [
            "Epoch 1/5\n",
            "2227/2227 [==============================] - ETA: 0s - loss: 0.2592 - accuracy: 0.8899\n",
            "Epoch 00001: val_loss improved from inf to 0.18845, saving model to /tmp/sentiment_analysis.hdf5\n",
            "2227/2227 [==============================] - 792s 355ms/step - loss: 0.2592 - accuracy: 0.8899 - val_loss: 0.1885 - val_accuracy: 0.9211\n",
            "Epoch 2/5\n",
            "2227/2227 [==============================] - ETA: 0s - loss: 0.1817 - accuracy: 0.9269\n",
            "Epoch 00002: val_loss did not improve from 0.18845\n",
            "2227/2227 [==============================] - 791s 355ms/step - loss: 0.1817 - accuracy: 0.9269 - val_loss: 0.1899 - val_accuracy: 0.9186\n",
            "Epoch 3/5\n",
            "2227/2227 [==============================] - ETA: 0s - loss: 0.1534 - accuracy: 0.9393\n",
            "Epoch 00003: val_loss did not improve from 0.18845\n",
            "2227/2227 [==============================] - 792s 356ms/step - loss: 0.1534 - accuracy: 0.9393 - val_loss: 0.1943 - val_accuracy: 0.9226\n",
            "Epoch 4/5\n",
            "2227/2227 [==============================] - ETA: 0s - loss: 0.1299 - accuracy: 0.9497\n",
            "Epoch 00004: val_loss did not improve from 0.18845\n",
            "2227/2227 [==============================] - 789s 354ms/step - loss: 0.1299 - accuracy: 0.9497 - val_loss: 0.2177 - val_accuracy: 0.9148\n",
            "Epoch 5/5\n",
            "2227/2227 [==============================] - ETA: 0s - loss: 0.1085 - accuracy: 0.9586\n",
            "Epoch 00005: val_loss did not improve from 0.18845\n",
            "2227/2227 [==============================] - 791s 355ms/step - loss: 0.1085 - accuracy: 0.9586 - val_loss: 0.2625 - val_accuracy: 0.9199\n"
          ],
          "name": "stdout"
        }
      ]
    },
    {
      "cell_type": "markdown",
      "metadata": {
        "id": "CD8Qg2HyQEvn",
        "colab_type": "text"
      },
      "source": [
        "**Save the vocabulory and model files for deployment**"
      ]
    },
    {
      "cell_type": "code",
      "metadata": {
        "id": "bWnf7-XOP8cq",
        "colab_type": "code",
        "colab": {}
      },
      "source": [
        "encoder.save_to_file('/tmp/data_vocabulory')\n",
        "model.save('/tmp/final_model.hdf5')"
      ],
      "execution_count": 0,
      "outputs": []
    },
    {
      "cell_type": "code",
      "metadata": {
        "id": "Zjug0jQJQSsy",
        "colab_type": "code",
        "outputId": "017b2e4b-bf90-4504-83da-f5b28c78305a",
        "colab": {
          "base_uri": "https://localhost:8080/",
          "height": 353
        }
      },
      "source": [
        "model.summary()"
      ],
      "execution_count": 19,
      "outputs": [
        {
          "output_type": "stream",
          "text": [
            "Model: \"sequential\"\n",
            "_________________________________________________________________\n",
            "Layer (type)                 Output Shape              Param #   \n",
            "=================================================================\n",
            "embedding (Embedding)        (None, None, 128)         11262592  \n",
            "_________________________________________________________________\n",
            "bidirectional (Bidirectional (None, None, 256)         263168    \n",
            "_________________________________________________________________\n",
            "bidirectional_1 (Bidirection (None, 128)               164352    \n",
            "_________________________________________________________________\n",
            "dense (Dense)                (None, 32)                4128      \n",
            "_________________________________________________________________\n",
            "dropout (Dropout)            (None, 32)                0         \n",
            "_________________________________________________________________\n",
            "dense_1 (Dense)              (None, 1)                 33        \n",
            "=================================================================\n",
            "Total params: 11,694,273\n",
            "Trainable params: 11,694,273\n",
            "Non-trainable params: 0\n",
            "_________________________________________________________________\n"
          ],
          "name": "stdout"
        }
      ]
    },
    {
      "cell_type": "markdown",
      "metadata": {
        "id": "gBlr2qazRJcZ",
        "colab_type": "text"
      },
      "source": [
        "**Helper Function to plot graphs**"
      ]
    },
    {
      "cell_type": "code",
      "metadata": {
        "id": "v8SLGJzlQUo5",
        "colab_type": "code",
        "colab": {}
      },
      "source": [
        "def plot_graphs(history, metric):\n",
        "  plt.plot(history.history[metric])\n",
        "  plt.plot(history.history['val_'+metric], '')\n",
        "  plt.xlabel(\"Epochs\")\n",
        "  plt.ylabel(metric)\n",
        "  plt.legend(['train_'+metric, 'val_'+metric])\n",
        "  plt.show()"
      ],
      "execution_count": 0,
      "outputs": []
    },
    {
      "cell_type": "code",
      "metadata": {
        "id": "UTdRc0yGRPRw",
        "colab_type": "code",
        "outputId": "b171d17c-5221-4159-92e3-ccfe671ec98b",
        "colab": {
          "base_uri": "https://localhost:8080/",
          "height": 279
        }
      },
      "source": [
        "plot_graphs(history, 'accuracy')"
      ],
      "execution_count": 23,
      "outputs": [
        {
          "output_type": "display_data",
          "data": {
            "image/png": "[encoded data removed]",
            "text/plain": [
              "<Figure size 432x288 with 1 Axes>"
            ]
          },
          "metadata": {
            "tags": [],
            "needs_background": "light"
          }
        }
      ]
    },
    {
      "cell_type": "code",
      "metadata": {
        "id": "4bTC6hJXRUIY",
        "colab_type": "code",
        "outputId": "8a65ec1d-8429-42b6-a825-fd6d79ebc2a1",
        "colab": {
          "base_uri": "https://localhost:8080/",
          "height": 279
        }
      },
      "source": [
        "plot_graphs(history, 'loss')"
      ],
      "execution_count": 24,
      "outputs": [
        {
          "output_type": "display_data",
          "data": {
            "image/png": "[encoded data removed]",
            "text/plain": [
              "<Figure size 432x288 with 1 Axes>"
            ]
          },
          "metadata": {
            "tags": [],
            "needs_background": "light"
          }
        }
      ]
    }
  ]
}